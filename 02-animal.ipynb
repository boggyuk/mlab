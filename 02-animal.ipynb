{
 "cells": [
  {
   "cell_type": "code",
   "execution_count": null,
   "metadata": {
    "colab": {
     "base_uri": "https://localhost:8080/",
     "height": 72
    },
    "colab_type": "code",
    "id": "h3Ht7v1PKmB2",
    "outputId": "efcdcbc6-e785-4a52-b2fb-138d60f91458"
   },
   "outputs": [],
   "source": [
    "import pandas as pd\n",
    "from sklearn.model_selection import train_test_split\n",
    "from sklearn.tree import DecisionTreeClassifier\n",
    "\n",
    "dataset = pd.read_csv(\"animals.csv\")\n",
    "\n",
    "targets  = dataset[\"name\"]\n",
    "features = dataset.drop(\"name\", axis=1)\n",
    "\n",
    "train_features, test_features, train_targets, test_targets = \\\n",
    "  train_test_split(features, targets, train_size=0.75)\n",
    "\n",
    "tree = DecisionTreeClassifier(criterion = \"entropy\", \n",
    "                              max_depth = 5)\n",
    "tree = tree.fit(train_features, train_targets)\n",
    "\n",
    "features = {\n",
    "    \"fur\":   1,\n",
    "    \"wings\": 0,\n",
    "    \"gills\": 0,\n",
    "    \"teeth\": 1,\n",
    "    \"beak\":  0,\n",
    "    \"number of legs\": 3,\n",
    "    \"fangs\": 1\n",
    "}\n",
    "\n",
    "features   = pd.DataFrame([features], columns=train_features.columns)\n",
    "prediction = tree.predict(features)[0] \n",
    " \n",
    "print(prediction)\n",
    "\n"
   ]
  },
  {
   "cell_type": "code",
   "execution_count": null,
   "metadata": {},
   "outputs": [],
   "source": []
  }
 ],
 "metadata": {
  "colab": {
   "name": "Make a Prediction.ipynb",
   "provenance": []
  },
  "kernelspec": {
   "display_name": "Python 3 (ipykernel)",
   "language": "python",
   "name": "python3"
  },
  "language_info": {
   "codemirror_mode": {
    "name": "ipython",
    "version": 3
   },
   "file_extension": ".py",
   "mimetype": "text/x-python",
   "name": "python",
   "nbconvert_exporter": "python",
   "pygments_lexer": "ipython3",
   "version": "3.8.10"
  }
 },
 "nbformat": 4,
 "nbformat_minor": 4
}
