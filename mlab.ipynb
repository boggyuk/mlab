{
 "cells": [
  {
   "cell_type": "code",
   "execution_count": null,
   "id": "1abfa950-4c47-4aff-91db-61804d9e1ae2",
   "metadata": {},
   "outputs": [],
   "source": [
    "import pandas \n",
    "from pandas import read_csv\n",
    "url = \"iris.csv\"\n",
    "names = [ \"sepal-length\",\n",
    "         \"sepal-width\",\n",
    "         \"petal-length\",\n",
    "         \"petal-width\",\n",
    "         \"class\"]\n",
    "dataset = read_csv(url, names=names)"
   ]
  },
  {
   "cell_type": "code",
   "execution_count": null,
   "id": "d93586a2-0880-42c8-9b9a-4b57f738e737",
   "metadata": {},
   "outputs": [],
   "source": [
    "print(dataset)"
   ]
  },
  {
   "cell_type": "code",
   "execution_count": null,
   "id": "50c05dd5-a49c-4868-ba8f-4e12730c29a9",
   "metadata": {},
   "outputs": [],
   "source": []
  }
 ],
 "metadata": {
  "kernelspec": {
   "display_name": "Python 3 (ipykernel)",
   "language": "python",
   "name": "python3"
  },
  "language_info": {
   "codemirror_mode": {
    "name": "ipython",
    "version": 3
   },
   "file_extension": ".py",
   "mimetype": "text/x-python",
   "name": "python",
   "nbconvert_exporter": "python",
   "pygments_lexer": "ipython3",
   "version": "3.8.10"
  }
 },
 "nbformat": 4,
 "nbformat_minor": 5
}
