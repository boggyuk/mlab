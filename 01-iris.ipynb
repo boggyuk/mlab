{
 "cells": [
  {
   "cell_type": "code",
   "execution_count": null,
   "id": "1abfa950-4c47-4aff-91db-61804d9e1ae2",
   "metadata": {},
   "outputs": [],
   "source": [
    "import pandas\n",
    "import matplotlib\n",
    "\n",
    "from pandas import read_csv\n",
    "from matplotlib import pyplot\n",
    "url = \"iris.csv\"\n",
    "names = [ \"sepal-length\",\n",
    "         \"sepal-width\",\n",
    "         \"petal-length\",\n",
    "         \"petal-width\",\n",
    "         \"class\"]\n",
    "dataset = read_csv(url, names=names)"
   ]
  },
  {
   "cell_type": "code",
   "execution_count": null,
   "id": "d93586a2-0880-42c8-9b9a-4b57f738e737",
   "metadata": {},
   "outputs": [],
   "source": [
    "print(dataset.describe())"
   ]
  },
  {
   "cell_type": "code",
   "execution_count": null,
   "id": "50c05dd5-a49c-4868-ba8f-4e12730c29a9",
   "metadata": {},
   "outputs": [],
   "source": [
    "print(dataset.shape)"
   ]
  },
  {
   "cell_type": "code",
   "execution_count": null,
   "id": "81d3382b-dee5-4a07-93ab-b6a3d5310075",
   "metadata": {},
   "outputs": [],
   "source": [
    "print(dataset.groupby(\"class\").size())"
   ]
  },
  {
   "cell_type": "code",
   "execution_count": null,
   "id": "1dad1016-30e5-4834-9b80-f4f45f6260fb",
   "metadata": {},
   "outputs": [],
   "source": [
    "dataset.plot(kind = \"box\",\n",
    "            subplots = True,\n",
    "            layout = (2,2),\n",
    "            sharex = False,\n",
    "            sharey = False)\n",
    "pyplot.show()"
   ]
  },
  {
   "cell_type": "code",
   "execution_count": null,
   "id": "f4a9cc2d-18fa-4ec2-bb61-5d74c55c82b4",
   "metadata": {},
   "outputs": [],
   "source": [
    "dataset.hist()\n",
    "pyplot.show()"
   ]
  },
  {
   "cell_type": "code",
   "execution_count": null,
   "id": "d58c4dd0-ba8c-4a3d-b503-94153affe0e3",
   "metadata": {},
   "outputs": [],
   "source": []
  }
 ],
 "metadata": {
  "kernelspec": {
   "display_name": "Python 3 (ipykernel)",
   "language": "python",
   "name": "python3"
  },
  "language_info": {
   "codemirror_mode": {
    "name": "ipython",
    "version": 3
   },
   "file_extension": ".py",
   "mimetype": "text/x-python",
   "name": "python",
   "nbconvert_exporter": "python",
   "pygments_lexer": "ipython3",
   "version": "3.8.10"
  }
 },
 "nbformat": 4,
 "nbformat_minor": 5
}
