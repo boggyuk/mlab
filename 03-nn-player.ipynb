{
 "cells": [
  {
   "cell_type": "code",
   "execution_count": null,
   "metadata": {
    "colab": {
     "base_uri": "https://localhost:8080/",
     "height": 319
    },
    "colab_type": "code",
    "id": "Ut8Prikkhdxz",
    "outputId": "29ee43d6-45c6-4198-a9b6-5a9c83459515"
   },
   "outputs": [],
   "source": [
    "import pandas as pd\n",
    "\n",
    "import sklearn\n",
    "from sklearn.model_selection import train_test_split\n",
    "from sklearn.preprocessing import StandardScaler\n",
    "from sklearn.neural_network import MLPClassifier\n",
    "from sklearn.metrics import confusion_matrix\n",
    "from sklearn.metrics import classification_report\n",
    "\n",
    "destination_filename = \"03-nn-player_data.csv\"\n",
    "\n",
    "players = pd.read_csv(destination_filename,  \n",
    "                   names = [\"Team\",\t\"Wins\",\t\"Losses\",\t\"Coins Collected\",\t\"Power Ups\",\n",
    "                            \"Quests\",\t\"Red Color\",\t\"Armor Lost\",\n",
    "                            \"Fans\",\t\"Mentions\",\t\"Days on Team\",\t\n",
    "                            \"Timeouts\",\n",
    "                            \"Blue Color\",\t\"Green Color\"])\n",
    "\n",
    "players.head()\n",
    "players.describe().transpose()\n",
    "players.shape\n",
    "\n",
    "X = players.drop('Team',axis=1)\n",
    "y = players['Team']\n",
    " \n",
    "X_train, X_test, y_train, y_test = train_test_split(X, y)\n",
    "\n",
    " \n",
    "scaler = StandardScaler()\n",
    " \n",
    "scaler.fit(X_train)\n",
    " \n",
    "StandardScaler(copy=True, with_mean=True, with_std=True)\n",
    " \n",
    "X_train = scaler.transform(X_train)\n",
    "X_test = scaler.transform(X_test)\n",
    "\n",
    "\n",
    "mlp = MLPClassifier(hidden_layer_sizes=(13,13,13), max_iter=400)\n",
    "\n",
    "mlp.fit(X_train,y_train)\n",
    "\n",
    "predictions = mlp.predict(X_test)\n",
    "\n",
    "print(confusion_matrix(y_test, predictions))\n",
    "\n",
    "print(classification_report(y_test, predictions))\n",
    "\n",
    "\n",
    "\n"
   ]
  },
  {
   "cell_type": "code",
   "execution_count": null,
   "metadata": {},
   "outputs": [],
   "source": []
  }
 ],
 "metadata": {
  "colab": {
   "name": "Make a Prediction.ipynb",
   "provenance": []
  },
  "kernelspec": {
   "display_name": "Python 3 (ipykernel)",
   "language": "python",
   "name": "python3"
  },
  "language_info": {
   "codemirror_mode": {
    "name": "ipython",
    "version": 3
   },
   "file_extension": ".py",
   "mimetype": "text/x-python",
   "name": "python",
   "nbconvert_exporter": "python",
   "pygments_lexer": "ipython3",
   "version": "3.8.10"
  }
 },
 "nbformat": 4,
 "nbformat_minor": 4
}
